{
  "nbformat": 4,
  "nbformat_minor": 0,
  "metadata": {
    "colab": {
      "provenance": [],
      "mount_file_id": "1TApi13Y6s6O3wCbIsxTWgkLtjPbOAcPv",
      "authorship_tag": "ABX9TyP8DXhh9ymqdGpbgPAoDWnn",
      "include_colab_link": true
    },
    "kernelspec": {
      "name": "python3",
      "display_name": "Python 3"
    },
    "language_info": {
      "name": "python"
    }
  },
  "cells": [
    {
      "cell_type": "markdown",
      "metadata": {
        "id": "view-in-github",
        "colab_type": "text"
      },
      "source": [
        "<a href=\"https://colab.research.google.com/github/jamagiwa/Kaggle/blob/Explore_und_practice/GBM_scRNAseq.ipynb\" target=\"_parent\"><img src=\"https://colab.research.google.com/assets/colab-badge.svg\" alt=\"Open In Colab\"/></a>"
      ]
    },
    {
      "cell_type": "markdown",
      "source": [
        "#GBM scRNAseqデータを用いてEDAの練習する"
      ],
      "metadata": {
        "id": "_C78SJo0CdiN"
      }
    },
    {
      "cell_type": "markdown",
      "source": [
        "What: scRNAseqデータを用いて解析の手法を学ぶ\n",
        "\n",
        "---\n",
        "\n",
        "Why: 遺伝子発現、epigenome、proteomeデータを自由に扱えるようになりたいため\n",
        "\n",
        "---\n",
        "\n",
        "Result\n"
      ],
      "metadata": {
        "id": "naWGjKu4CgJU"
      }
    },
    {
      "cell_type": "code",
      "execution_count": 8,
      "metadata": {
        "colab": {
          "base_uri": "https://localhost:8080/"
        },
        "collapsed": true,
        "id": "cVqW-9jTB6KO",
        "outputId": "a751b9d9-b99d-47fe-90e3-ee4794860b67"
      },
      "outputs": [
        {
          "output_type": "stream",
          "name": "stdout",
          "text": [
            "Requirement already satisfied: kagglehub in /usr/local/lib/python3.12/dist-packages (0.3.12)\n",
            "Requirement already satisfied: packaging in /usr/local/lib/python3.12/dist-packages (from kagglehub) (25.0)\n",
            "Requirement already satisfied: pyyaml in /usr/local/lib/python3.12/dist-packages (from kagglehub) (6.0.2)\n",
            "Requirement already satisfied: requests in /usr/local/lib/python3.12/dist-packages (from kagglehub) (2.32.4)\n",
            "Requirement already satisfied: tqdm in /usr/local/lib/python3.12/dist-packages (from kagglehub) (4.67.1)\n",
            "Requirement already satisfied: charset_normalizer<4,>=2 in /usr/local/lib/python3.12/dist-packages (from requests->kagglehub) (3.4.3)\n",
            "Requirement already satisfied: idna<4,>=2.5 in /usr/local/lib/python3.12/dist-packages (from requests->kagglehub) (3.10)\n",
            "Requirement already satisfied: urllib3<3,>=1.21.1 in /usr/local/lib/python3.12/dist-packages (from requests->kagglehub) (2.5.0)\n",
            "Requirement already satisfied: certifi>=2017.4.17 in /usr/local/lib/python3.12/dist-packages (from requests->kagglehub) (2025.8.3)\n",
            "Path to dataset files: /kaggle/input/human-glioblastoma-dataset\n"
          ]
        }
      ],
      "source": [
        "#データのダウンロード\n",
        "!pip install kagglehub\n",
        "import kagglehub\n",
        "\n",
        "# Download latest version\n",
        "path = kagglehub.dataset_download(\"reminho/human-glioblastoma-dataset\")\n",
        "\n",
        "print(\"Path to dataset files:\", path)"
      ]
    },
    {
      "cell_type": "code",
      "source": [
        "#ファイル名の確認\n",
        "import os\n",
        "print(os.listdir(path))"
      ],
      "metadata": {
        "colab": {
          "base_uri": "https://localhost:8080/"
        },
        "id": "51JvjLEHFOfu",
        "outputId": "d09081d4-687e-4c8f-b04a-7f0620c8c54f"
      },
      "execution_count": 9,
      "outputs": [
        {
          "output_type": "stream",
          "name": "stdout",
          "text": [
            "['barcodes.tsv', 'matrix.mtx', 'genes.tsv']\n"
          ]
        }
      ]
    },
    {
      "cell_type": "markdown",
      "source": [
        "barcodes.tsv...各細胞のID, matrix.mtx...実際の遺伝子発現data(ほとんどのgeneが0なので特殊な形式で効率よく保存している。), genes.tsv...遺伝子名のリスト"
      ],
      "metadata": {
        "id": "STOu9MpLNPQl"
      }
    },
    {
      "cell_type": "markdown",
      "source": [
        "3つのファイルを読み込む"
      ],
      "metadata": {
        "id": "3GswmstONupa"
      }
    },
    {
      "cell_type": "code",
      "source": [
        "import pandas as pd\n",
        "import scipy.io\n",
        "\n",
        "#ファイルパスを設定\n",
        "path = \"/kaggle/input/human-glioblastoma-dataset\"\n",
        "barcodes_file = f\"{path}/barcodes.tsv\"\n",
        "gene_file = f\"{path}/genes.tsv\"\n",
        "matrix_file = f\"{path}/matrix.mtx\"\n",
        "\n",
        "#matrix/mtxを読み込む\n",
        "matrix = scipy.io.mmread(matrix_file).T#mmread関数でmtxを読み込む\n",
        "\n",
        "#barcode.tsvとgenes.tsvを読み込む\n",
        "barcodes = pd.read_csv(barcodes_file, header = None).iloc[:, 0].values#iloc[:, 0].valuesで最初の行をインデックスに変換\n",
        "genes = pd.read_csv(gene_file, header = None).iloc[:, 0].values\n",
        "\n",
        "#pandasのDataFrameにまとめる\n",
        "df = pd.DataFrame(data=matrix.toarray(), index=barcodes, columns=genes)\n",
        "\n",
        "print(df.head())\n"
      ],
      "metadata": {
        "colab": {
          "base_uri": "https://localhost:8080/"
        },
        "id": "lVD4tlVvNy37",
        "outputId": "5993d9bc-078a-4657-cc3e-66116109c436"
      },
      "execution_count": 29,
      "outputs": [
        {
          "output_type": "stream",
          "name": "stdout",
          "text": [
            "                    ENSG00000078369\\tGNB1\\tGene Expression  \\\n",
            "AAACCCAAGGCGATAC-1                                       1   \n",
            "AAACCCAAGGCTGTAG-1                                       0   \n",
            "AAACCCACAAGTCCCG-1                                       5   \n",
            "AAACCCACAGATGCGA-1                                       2   \n",
            "AAACCCACAGGTGAGT-1                                       4   \n",
            "\n",
            "                    ENSG00000078900\\tTP73\\tGene Expression  \\\n",
            "AAACCCAAGGCGATAC-1                                       0   \n",
            "AAACCCAAGGCTGTAG-1                                       0   \n",
            "AAACCCACAAGTCCCG-1                                       0   \n",
            "AAACCCACAGATGCGA-1                                       0   \n",
            "AAACCCACAGGTGAGT-1                                       0   \n",
            "\n",
            "                    ENSG00000116288\\tPARK7\\tGene Expression  \\\n",
            "AAACCCAAGGCGATAC-1                                        0   \n",
            "AAACCCAAGGCTGTAG-1                                        0   \n",
            "AAACCCACAAGTCCCG-1                                       13   \n",
            "AAACCCACAGATGCGA-1                                        4   \n",
            "AAACCCACAGGTGAGT-1                                        4   \n",
            "\n",
            "                    ENSG00000120948\\tTARDBP\\tGene Expression  \\\n",
            "AAACCCAAGGCGATAC-1                                         0   \n",
            "AAACCCAAGGCTGTAG-1                                         0   \n",
            "AAACCCACAAGTCCCG-1                                         3   \n",
            "AAACCCACAGATGCGA-1                                         0   \n",
            "AAACCCACAGGTGAGT-1                                         4   \n",
            "\n",
            "                    ENSG00000198793\\tMTOR\\tGene Expression  \\\n",
            "AAACCCAAGGCGATAC-1                                       0   \n",
            "AAACCCAAGGCTGTAG-1                                       0   \n",
            "AAACCCACAAGTCCCG-1                                       0   \n",
            "AAACCCACAGATGCGA-1                                       0   \n",
            "AAACCCACAGGTGAGT-1                                       0   \n",
            "\n",
            "                    ENSG00000177000\\tMTHFR\\tGene Expression  \\\n",
            "AAACCCAAGGCGATAC-1                                        0   \n",
            "AAACCCAAGGCTGTAG-1                                        0   \n",
            "AAACCCACAAGTCCCG-1                                        0   \n",
            "AAACCCACAGATGCGA-1                                        0   \n",
            "AAACCCACAGGTGAGT-1                                        0   \n",
            "\n",
            "                    ENSG00000011021\\tCLCN6\\tGene Expression  \\\n",
            "AAACCCAAGGCGATAC-1                                        0   \n",
            "AAACCCAAGGCTGTAG-1                                        0   \n",
            "AAACCCACAAGTCCCG-1                                        0   \n",
            "AAACCCACAGATGCGA-1                                        0   \n",
            "AAACCCACAGGTGAGT-1                                        0   \n",
            "\n",
            "                    ENSG00000120937\\tNPPB\\tGene Expression  \\\n",
            "AAACCCAAGGCGATAC-1                                       0   \n",
            "AAACCCAAGGCTGTAG-1                                       0   \n",
            "AAACCCACAAGTCCCG-1                                       0   \n",
            "AAACCCACAGATGCGA-1                                       0   \n",
            "AAACCCACAGGTGAGT-1                                       0   \n",
            "\n",
            "                    ENSG00000116688\\tMFN2\\tGene Expression  \\\n",
            "AAACCCAAGGCGATAC-1                                       1   \n",
            "AAACCCAAGGCTGTAG-1                                       0   \n",
            "AAACCCACAAGTCCCG-1                                       0   \n",
            "AAACCCACAGATGCGA-1                                       0   \n",
            "AAACCCACAGGTGAGT-1                                       0   \n",
            "\n",
            "                    ENSG00000028137\\tTNFRSF1B\\tGene Expression  ...  \\\n",
            "AAACCCAAGGCGATAC-1                                           0  ...   \n",
            "AAACCCAAGGCTGTAG-1                                           1  ...   \n",
            "AAACCCACAAGTCCCG-1                                           0  ...   \n",
            "AAACCCACAGATGCGA-1                                           8  ...   \n",
            "AAACCCACAGGTGAGT-1                                           0  ...   \n",
            "\n",
            "                    ENSG00000198689\\tSLC9A6\\tGene Expression  \\\n",
            "AAACCCAAGGCGATAC-1                                         0   \n",
            "AAACCCAAGGCTGTAG-1                                         0   \n",
            "AAACCCACAAGTCCCG-1                                         2   \n",
            "AAACCCACAGATGCGA-1                                         0   \n",
            "AAACCCACAGGTGAGT-1                                         1   \n",
            "\n",
            "                    ENSG00000102081\\tFMR1\\tGene Expression  \\\n",
            "AAACCCAAGGCGATAC-1                                       0   \n",
            "AAACCCAAGGCTGTAG-1                                       0   \n",
            "AAACCCACAAGTCCCG-1                                       0   \n",
            "AAACCCACAGATGCGA-1                                       0   \n",
            "AAACCCACAGGTGAGT-1                                       1   \n",
            "\n",
            "                    ENSG00000067842\\tATP2B3\\tGene Expression  \\\n",
            "AAACCCAAGGCGATAC-1                                         0   \n",
            "AAACCCAAGGCTGTAG-1                                         0   \n",
            "AAACCCACAAGTCCCG-1                                         0   \n",
            "AAACCCACAGATGCGA-1                                         0   \n",
            "AAACCCACAGGTGAGT-1                                         0   \n",
            "\n",
            "                    ENSG00000198753\\tPLXNB3\\tGene Expression  \\\n",
            "AAACCCAAGGCGATAC-1                                         0   \n",
            "AAACCCAAGGCTGTAG-1                                         0   \n",
            "AAACCCACAAGTCCCG-1                                         0   \n",
            "AAACCCACAGATGCGA-1                                         0   \n",
            "AAACCCACAGGTGAGT-1                                         0   \n",
            "\n",
            "                    ENSG00000198910\\tL1CAM\\tGene Expression  \\\n",
            "AAACCCAAGGCGATAC-1                                        0   \n",
            "AAACCCAAGGCTGTAG-1                                        0   \n",
            "AAACCCACAAGTCCCG-1                                        0   \n",
            "AAACCCACAGATGCGA-1                                        0   \n",
            "AAACCCACAGGTGAGT-1                                        0   \n",
            "\n",
            "                    ENSG00000169057\\tMECP2\\tGene Expression  \\\n",
            "AAACCCAAGGCGATAC-1                                        0   \n",
            "AAACCCAAGGCTGTAG-1                                        0   \n",
            "AAACCCACAAGTCCCG-1                                        0   \n",
            "AAACCCACAGATGCGA-1                                        0   \n",
            "AAACCCACAGGTGAGT-1                                        1   \n",
            "\n",
            "                    ENSG00000196924\\tFLNA\\tGene Expression  \\\n",
            "AAACCCAAGGCGATAC-1                                       2   \n",
            "AAACCCAAGGCTGTAG-1                                       0   \n",
            "AAACCCACAAGTCCCG-1                                       5   \n",
            "AAACCCACAGATGCGA-1                                       0   \n",
            "AAACCCACAGGTGAGT-1                                       0   \n",
            "\n",
            "                    ENSG00000102125\\tTAZ\\tGene Expression  \\\n",
            "AAACCCAAGGCGATAC-1                                      0   \n",
            "AAACCCAAGGCTGTAG-1                                      0   \n",
            "AAACCCACAAGTCCCG-1                                      1   \n",
            "AAACCCACAGATGCGA-1                                      0   \n",
            "AAACCCACAGGTGAGT-1                                      1   \n",
            "\n",
            "                    ENSG00000155961\\tRAB39B\\tGene Expression  \\\n",
            "AAACCCAAGGCGATAC-1                                         0   \n",
            "AAACCCAAGGCTGTAG-1                                         0   \n",
            "AAACCCACAAGTCCCG-1                                         0   \n",
            "AAACCCACAGATGCGA-1                                         0   \n",
            "AAACCCACAGGTGAGT-1                                         0   \n",
            "\n",
            "                    ENSG00000184895\\tSRY\\tGene Expression  \n",
            "AAACCCAAGGCGATAC-1                                      0  \n",
            "AAACCCAAGGCTGTAG-1                                      0  \n",
            "AAACCCACAAGTCCCG-1                                      0  \n",
            "AAACCCACAGATGCGA-1                                      0  \n",
            "AAACCCACAGGTGAGT-1                                      0  \n",
            "\n",
            "[5 rows x 1186 columns]\n"
          ]
        }
      ]
    },
    {
      "cell_type": "code",
      "source": [],
      "metadata": {
        "id": "LjsS1T75Owxx"
      },
      "execution_count": null,
      "outputs": []
    }
  ]
}